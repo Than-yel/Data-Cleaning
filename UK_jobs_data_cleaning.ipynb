{
 "cells": [
  {
   "cell_type": "code",
   "execution_count": 6,
   "id": "27975c6f",
   "metadata": {},
   "outputs": [],
   "source": [
    "# import the necessary libraries\n",
    "import pandas as pd\n",
    "import matplotlib.pyplot as plt\n",
    "import seaborn as sns\n",
    "import numpy as np\n",
    "from wordcloud import WordCloud\n",
    "import re"
   ]
  },
  {
   "cell_type": "code",
   "execution_count": 7,
   "id": "30d90c41",
   "metadata": {},
   "outputs": [
    {
     "name": "stdout",
     "output_type": "stream",
     "text": [
      "Requirement already satisfied: WordCloud in /home/codespace/.python/current/lib/python3.12/site-packages (1.9.4)\n",
      "Requirement already satisfied: numpy>=1.6.1 in /home/codespace/.local/lib/python3.12/site-packages (from WordCloud) (2.2.6)\n",
      "Requirement already satisfied: pillow in /home/codespace/.local/lib/python3.12/site-packages (from WordCloud) (11.2.1)\n",
      "Requirement already satisfied: matplotlib in /home/codespace/.local/lib/python3.12/site-packages (from WordCloud) (3.10.3)\n",
      "Requirement already satisfied: contourpy>=1.0.1 in /home/codespace/.local/lib/python3.12/site-packages (from matplotlib->WordCloud) (1.3.2)\n",
      "Requirement already satisfied: cycler>=0.10 in /home/codespace/.local/lib/python3.12/site-packages (from matplotlib->WordCloud) (0.12.1)\n",
      "Requirement already satisfied: fonttools>=4.22.0 in /home/codespace/.local/lib/python3.12/site-packages (from matplotlib->WordCloud) (4.58.1)\n",
      "Requirement already satisfied: kiwisolver>=1.3.1 in /home/codespace/.local/lib/python3.12/site-packages (from matplotlib->WordCloud) (1.4.8)\n",
      "Requirement already satisfied: packaging>=20.0 in /home/codespace/.local/lib/python3.12/site-packages (from matplotlib->WordCloud) (25.0)\n",
      "Requirement already satisfied: pyparsing>=2.3.1 in /home/codespace/.local/lib/python3.12/site-packages (from matplotlib->WordCloud) (3.2.3)\n",
      "Requirement already satisfied: python-dateutil>=2.7 in /home/codespace/.local/lib/python3.12/site-packages (from matplotlib->WordCloud) (2.9.0.post0)\n"
     ]
    },
    {
     "name": "stdout",
     "output_type": "stream",
     "text": [
      "Requirement already satisfied: six>=1.5 in /home/codespace/.local/lib/python3.12/site-packages (from python-dateutil>=2.7->matplotlib->WordCloud) (1.17.0)\n",
      "Note: you may need to restart the kernel to use updated packages.\n"
     ]
    }
   ],
   "source": [
    "pip install WordCloud"
   ]
  },
  {
   "cell_type": "code",
   "execution_count": 8,
   "id": "7034aec3",
   "metadata": {},
   "outputs": [
    {
     "ename": "FileNotFoundError",
     "evalue": "[Errno 2] No such file or directory: 'UK.csv'",
     "output_type": "error",
     "traceback": [
      "\u001b[31m---------------------------------------------------------------------------\u001b[39m",
      "\u001b[31mFileNotFoundError\u001b[39m                         Traceback (most recent call last)",
      "\u001b[36mCell\u001b[39m\u001b[36m \u001b[39m\u001b[32mIn[8]\u001b[39m\u001b[32m, line 2\u001b[39m\n\u001b[32m      1\u001b[39m \u001b[38;5;66;03m# Load file\u001b[39;00m\n\u001b[32m----> \u001b[39m\u001b[32m2\u001b[39m jobs = \u001b[43mpd\u001b[49m\u001b[43m.\u001b[49m\u001b[43mread_csv\u001b[49m\u001b[43m(\u001b[49m\u001b[33;43m\"\u001b[39;49m\u001b[33;43mUK.csv\u001b[39;49m\u001b[33;43m\"\u001b[39;49m\u001b[43m)\u001b[49m\n\u001b[32m      3\u001b[39m jobs.head()\n",
      "\u001b[36mFile \u001b[39m\u001b[32m~/.local/lib/python3.12/site-packages/pandas/io/parsers/readers.py:1026\u001b[39m, in \u001b[36mread_csv\u001b[39m\u001b[34m(filepath_or_buffer, sep, delimiter, header, names, index_col, usecols, dtype, engine, converters, true_values, false_values, skipinitialspace, skiprows, skipfooter, nrows, na_values, keep_default_na, na_filter, verbose, skip_blank_lines, parse_dates, infer_datetime_format, keep_date_col, date_parser, date_format, dayfirst, cache_dates, iterator, chunksize, compression, thousands, decimal, lineterminator, quotechar, quoting, doublequote, escapechar, comment, encoding, encoding_errors, dialect, on_bad_lines, delim_whitespace, low_memory, memory_map, float_precision, storage_options, dtype_backend)\u001b[39m\n\u001b[32m   1013\u001b[39m kwds_defaults = _refine_defaults_read(\n\u001b[32m   1014\u001b[39m     dialect,\n\u001b[32m   1015\u001b[39m     delimiter,\n\u001b[32m   (...)\u001b[39m\u001b[32m   1022\u001b[39m     dtype_backend=dtype_backend,\n\u001b[32m   1023\u001b[39m )\n\u001b[32m   1024\u001b[39m kwds.update(kwds_defaults)\n\u001b[32m-> \u001b[39m\u001b[32m1026\u001b[39m \u001b[38;5;28;01mreturn\u001b[39;00m \u001b[43m_read\u001b[49m\u001b[43m(\u001b[49m\u001b[43mfilepath_or_buffer\u001b[49m\u001b[43m,\u001b[49m\u001b[43m \u001b[49m\u001b[43mkwds\u001b[49m\u001b[43m)\u001b[49m\n",
      "\u001b[36mFile \u001b[39m\u001b[32m~/.local/lib/python3.12/site-packages/pandas/io/parsers/readers.py:620\u001b[39m, in \u001b[36m_read\u001b[39m\u001b[34m(filepath_or_buffer, kwds)\u001b[39m\n\u001b[32m    617\u001b[39m _validate_names(kwds.get(\u001b[33m\"\u001b[39m\u001b[33mnames\u001b[39m\u001b[33m\"\u001b[39m, \u001b[38;5;28;01mNone\u001b[39;00m))\n\u001b[32m    619\u001b[39m \u001b[38;5;66;03m# Create the parser.\u001b[39;00m\n\u001b[32m--> \u001b[39m\u001b[32m620\u001b[39m parser = \u001b[43mTextFileReader\u001b[49m\u001b[43m(\u001b[49m\u001b[43mfilepath_or_buffer\u001b[49m\u001b[43m,\u001b[49m\u001b[43m \u001b[49m\u001b[43m*\u001b[49m\u001b[43m*\u001b[49m\u001b[43mkwds\u001b[49m\u001b[43m)\u001b[49m\n\u001b[32m    622\u001b[39m \u001b[38;5;28;01mif\u001b[39;00m chunksize \u001b[38;5;129;01mor\u001b[39;00m iterator:\n\u001b[32m    623\u001b[39m     \u001b[38;5;28;01mreturn\u001b[39;00m parser\n",
      "\u001b[36mFile \u001b[39m\u001b[32m~/.local/lib/python3.12/site-packages/pandas/io/parsers/readers.py:1620\u001b[39m, in \u001b[36mTextFileReader.__init__\u001b[39m\u001b[34m(self, f, engine, **kwds)\u001b[39m\n\u001b[32m   1617\u001b[39m     \u001b[38;5;28mself\u001b[39m.options[\u001b[33m\"\u001b[39m\u001b[33mhas_index_names\u001b[39m\u001b[33m\"\u001b[39m] = kwds[\u001b[33m\"\u001b[39m\u001b[33mhas_index_names\u001b[39m\u001b[33m\"\u001b[39m]\n\u001b[32m   1619\u001b[39m \u001b[38;5;28mself\u001b[39m.handles: IOHandles | \u001b[38;5;28;01mNone\u001b[39;00m = \u001b[38;5;28;01mNone\u001b[39;00m\n\u001b[32m-> \u001b[39m\u001b[32m1620\u001b[39m \u001b[38;5;28mself\u001b[39m._engine = \u001b[38;5;28;43mself\u001b[39;49m\u001b[43m.\u001b[49m\u001b[43m_make_engine\u001b[49m\u001b[43m(\u001b[49m\u001b[43mf\u001b[49m\u001b[43m,\u001b[49m\u001b[43m \u001b[49m\u001b[38;5;28;43mself\u001b[39;49m\u001b[43m.\u001b[49m\u001b[43mengine\u001b[49m\u001b[43m)\u001b[49m\n",
      "\u001b[36mFile \u001b[39m\u001b[32m~/.local/lib/python3.12/site-packages/pandas/io/parsers/readers.py:1880\u001b[39m, in \u001b[36mTextFileReader._make_engine\u001b[39m\u001b[34m(self, f, engine)\u001b[39m\n\u001b[32m   1878\u001b[39m     \u001b[38;5;28;01mif\u001b[39;00m \u001b[33m\"\u001b[39m\u001b[33mb\u001b[39m\u001b[33m\"\u001b[39m \u001b[38;5;129;01mnot\u001b[39;00m \u001b[38;5;129;01min\u001b[39;00m mode:\n\u001b[32m   1879\u001b[39m         mode += \u001b[33m\"\u001b[39m\u001b[33mb\u001b[39m\u001b[33m\"\u001b[39m\n\u001b[32m-> \u001b[39m\u001b[32m1880\u001b[39m \u001b[38;5;28mself\u001b[39m.handles = \u001b[43mget_handle\u001b[49m\u001b[43m(\u001b[49m\n\u001b[32m   1881\u001b[39m \u001b[43m    \u001b[49m\u001b[43mf\u001b[49m\u001b[43m,\u001b[49m\n\u001b[32m   1882\u001b[39m \u001b[43m    \u001b[49m\u001b[43mmode\u001b[49m\u001b[43m,\u001b[49m\n\u001b[32m   1883\u001b[39m \u001b[43m    \u001b[49m\u001b[43mencoding\u001b[49m\u001b[43m=\u001b[49m\u001b[38;5;28;43mself\u001b[39;49m\u001b[43m.\u001b[49m\u001b[43moptions\u001b[49m\u001b[43m.\u001b[49m\u001b[43mget\u001b[49m\u001b[43m(\u001b[49m\u001b[33;43m\"\u001b[39;49m\u001b[33;43mencoding\u001b[39;49m\u001b[33;43m\"\u001b[39;49m\u001b[43m,\u001b[49m\u001b[43m \u001b[49m\u001b[38;5;28;43;01mNone\u001b[39;49;00m\u001b[43m)\u001b[49m\u001b[43m,\u001b[49m\n\u001b[32m   1884\u001b[39m \u001b[43m    \u001b[49m\u001b[43mcompression\u001b[49m\u001b[43m=\u001b[49m\u001b[38;5;28;43mself\u001b[39;49m\u001b[43m.\u001b[49m\u001b[43moptions\u001b[49m\u001b[43m.\u001b[49m\u001b[43mget\u001b[49m\u001b[43m(\u001b[49m\u001b[33;43m\"\u001b[39;49m\u001b[33;43mcompression\u001b[39;49m\u001b[33;43m\"\u001b[39;49m\u001b[43m,\u001b[49m\u001b[43m \u001b[49m\u001b[38;5;28;43;01mNone\u001b[39;49;00m\u001b[43m)\u001b[49m\u001b[43m,\u001b[49m\n\u001b[32m   1885\u001b[39m \u001b[43m    \u001b[49m\u001b[43mmemory_map\u001b[49m\u001b[43m=\u001b[49m\u001b[38;5;28;43mself\u001b[39;49m\u001b[43m.\u001b[49m\u001b[43moptions\u001b[49m\u001b[43m.\u001b[49m\u001b[43mget\u001b[49m\u001b[43m(\u001b[49m\u001b[33;43m\"\u001b[39;49m\u001b[33;43mmemory_map\u001b[39;49m\u001b[33;43m\"\u001b[39;49m\u001b[43m,\u001b[49m\u001b[43m \u001b[49m\u001b[38;5;28;43;01mFalse\u001b[39;49;00m\u001b[43m)\u001b[49m\u001b[43m,\u001b[49m\n\u001b[32m   1886\u001b[39m \u001b[43m    \u001b[49m\u001b[43mis_text\u001b[49m\u001b[43m=\u001b[49m\u001b[43mis_text\u001b[49m\u001b[43m,\u001b[49m\n\u001b[32m   1887\u001b[39m \u001b[43m    \u001b[49m\u001b[43merrors\u001b[49m\u001b[43m=\u001b[49m\u001b[38;5;28;43mself\u001b[39;49m\u001b[43m.\u001b[49m\u001b[43moptions\u001b[49m\u001b[43m.\u001b[49m\u001b[43mget\u001b[49m\u001b[43m(\u001b[49m\u001b[33;43m\"\u001b[39;49m\u001b[33;43mencoding_errors\u001b[39;49m\u001b[33;43m\"\u001b[39;49m\u001b[43m,\u001b[49m\u001b[43m \u001b[49m\u001b[33;43m\"\u001b[39;49m\u001b[33;43mstrict\u001b[39;49m\u001b[33;43m\"\u001b[39;49m\u001b[43m)\u001b[49m\u001b[43m,\u001b[49m\n\u001b[32m   1888\u001b[39m \u001b[43m    \u001b[49m\u001b[43mstorage_options\u001b[49m\u001b[43m=\u001b[49m\u001b[38;5;28;43mself\u001b[39;49m\u001b[43m.\u001b[49m\u001b[43moptions\u001b[49m\u001b[43m.\u001b[49m\u001b[43mget\u001b[49m\u001b[43m(\u001b[49m\u001b[33;43m\"\u001b[39;49m\u001b[33;43mstorage_options\u001b[39;49m\u001b[33;43m\"\u001b[39;49m\u001b[43m,\u001b[49m\u001b[43m \u001b[49m\u001b[38;5;28;43;01mNone\u001b[39;49;00m\u001b[43m)\u001b[49m\u001b[43m,\u001b[49m\n\u001b[32m   1889\u001b[39m \u001b[43m\u001b[49m\u001b[43m)\u001b[49m\n\u001b[32m   1890\u001b[39m \u001b[38;5;28;01massert\u001b[39;00m \u001b[38;5;28mself\u001b[39m.handles \u001b[38;5;129;01mis\u001b[39;00m \u001b[38;5;129;01mnot\u001b[39;00m \u001b[38;5;28;01mNone\u001b[39;00m\n\u001b[32m   1891\u001b[39m f = \u001b[38;5;28mself\u001b[39m.handles.handle\n",
      "\u001b[36mFile \u001b[39m\u001b[32m~/.local/lib/python3.12/site-packages/pandas/io/common.py:873\u001b[39m, in \u001b[36mget_handle\u001b[39m\u001b[34m(path_or_buf, mode, encoding, compression, memory_map, is_text, errors, storage_options)\u001b[39m\n\u001b[32m    868\u001b[39m \u001b[38;5;28;01melif\u001b[39;00m \u001b[38;5;28misinstance\u001b[39m(handle, \u001b[38;5;28mstr\u001b[39m):\n\u001b[32m    869\u001b[39m     \u001b[38;5;66;03m# Check whether the filename is to be opened in binary mode.\u001b[39;00m\n\u001b[32m    870\u001b[39m     \u001b[38;5;66;03m# Binary mode does not support 'encoding' and 'newline'.\u001b[39;00m\n\u001b[32m    871\u001b[39m     \u001b[38;5;28;01mif\u001b[39;00m ioargs.encoding \u001b[38;5;129;01mand\u001b[39;00m \u001b[33m\"\u001b[39m\u001b[33mb\u001b[39m\u001b[33m\"\u001b[39m \u001b[38;5;129;01mnot\u001b[39;00m \u001b[38;5;129;01min\u001b[39;00m ioargs.mode:\n\u001b[32m    872\u001b[39m         \u001b[38;5;66;03m# Encoding\u001b[39;00m\n\u001b[32m--> \u001b[39m\u001b[32m873\u001b[39m         handle = \u001b[38;5;28;43mopen\u001b[39;49m\u001b[43m(\u001b[49m\n\u001b[32m    874\u001b[39m \u001b[43m            \u001b[49m\u001b[43mhandle\u001b[49m\u001b[43m,\u001b[49m\n\u001b[32m    875\u001b[39m \u001b[43m            \u001b[49m\u001b[43mioargs\u001b[49m\u001b[43m.\u001b[49m\u001b[43mmode\u001b[49m\u001b[43m,\u001b[49m\n\u001b[32m    876\u001b[39m \u001b[43m            \u001b[49m\u001b[43mencoding\u001b[49m\u001b[43m=\u001b[49m\u001b[43mioargs\u001b[49m\u001b[43m.\u001b[49m\u001b[43mencoding\u001b[49m\u001b[43m,\u001b[49m\n\u001b[32m    877\u001b[39m \u001b[43m            \u001b[49m\u001b[43merrors\u001b[49m\u001b[43m=\u001b[49m\u001b[43merrors\u001b[49m\u001b[43m,\u001b[49m\n\u001b[32m    878\u001b[39m \u001b[43m            \u001b[49m\u001b[43mnewline\u001b[49m\u001b[43m=\u001b[49m\u001b[33;43m\"\u001b[39;49m\u001b[33;43m\"\u001b[39;49m\u001b[43m,\u001b[49m\n\u001b[32m    879\u001b[39m \u001b[43m        \u001b[49m\u001b[43m)\u001b[49m\n\u001b[32m    880\u001b[39m     \u001b[38;5;28;01melse\u001b[39;00m:\n\u001b[32m    881\u001b[39m         \u001b[38;5;66;03m# Binary mode\u001b[39;00m\n\u001b[32m    882\u001b[39m         handle = \u001b[38;5;28mopen\u001b[39m(handle, ioargs.mode)\n",
      "\u001b[31mFileNotFoundError\u001b[39m: [Errno 2] No such file or directory: 'UK.csv'"
     ]
    }
   ],
   "source": [
    "# Load file\n",
    "jobs = pd.read_csv(\"UK.csv\")\n",
    "jobs.head()"
   ]
  },
  {
   "cell_type": "code",
   "execution_count": null,
   "id": "ea5c4868",
   "metadata": {},
   "outputs": [],
   "source": [
    "# rename the columns to suit the naming convention\n",
    "jobs.rename(columns={'Job Title': 'Job_title', 'Company Score': 'Company_score', 'Date': 'Duration'}, inplace=True)\n",
    "jobs.head()"
   ]
  },
  {
   "cell_type": "code",
   "execution_count": null,
   "id": "7b8e97ca",
   "metadata": {},
   "outputs": [],
   "source": [
    "# Standardize company names by making all first letters in capital\n",
    "jobs[\"Company\"] = jobs[\"Company\"].str.title()\n",
    "jobs.head()"
   ]
  },
  {
   "cell_type": "code",
   "execution_count": null,
   "id": "223e0ea0",
   "metadata": {},
   "outputs": [],
   "source": [
    "# View all variations of job titles\n",
    "unique_titles = jobs[\"Job_title\"].unique()\n",
    "print(unique_titles)"
   ]
  },
  {
   "cell_type": "code",
   "execution_count": null,
   "id": "0eb8ba6a",
   "metadata": {},
   "outputs": [],
   "source": [
    "jobs[\"Job_title\"].value_counts().head()"
   ]
  },
  {
   "cell_type": "code",
   "execution_count": null,
   "id": "89d216b2",
   "metadata": {},
   "outputs": [],
   "source": [
    "# There are svereal variations of the title Data Scienctist. Standardize them and make them into one\n",
    "jobs['Job_title'] = jobs['Job_title'].str.replace('DATA SCIENTIST', 'Data Scientist', case=False)"
   ]
  },
  {
   "cell_type": "code",
   "execution_count": null,
   "id": "d1be54ef",
   "metadata": {},
   "outputs": [],
   "source": [
    "# To check for the total Machine Learning jobs regardless of variations\n",
    "jobs[\"Job_title\"].str.contains(\"Data Scientist\", case=False, na=False).sum()"
   ]
  },
  {
   "cell_type": "code",
   "execution_count": null,
   "id": "84983446",
   "metadata": {},
   "outputs": [],
   "source": [
    "# Machine Learning Job title variations\n",
    "ml_titles = jobs[jobs[\"Job_title\"].str.contains(\"Data Scientist\", case=False, na=False)]\n",
    "print(ml_titles[\"Job_title\"].unique())"
   ]
  },
  {
   "cell_type": "code",
   "execution_count": null,
   "id": "1d6c4b15",
   "metadata": {},
   "outputs": [],
   "source": [
    "# check for missing values\n",
    "jobs.isnull().sum()"
   ]
  },
  {
   "cell_type": "code",
   "execution_count": null,
   "id": "9883a14c",
   "metadata": {},
   "outputs": [],
   "source": [
    "# let's view all the columns with missing values\n",
    "missing_values = jobs[jobs.isnull().any(axis=1)] # axis=1 refers to columns while axis=0 refers to rows\n",
    "missing_values.head(5)"
   ]
  },
  {
   "cell_type": "code",
   "execution_count": null,
   "id": "6eb93fae",
   "metadata": {},
   "outputs": [],
   "source": [
    "# this counts the missing values from all the columns with missing values in terms of their rows\n",
    "missing_values.count()"
   ]
  },
  {
   "cell_type": "code",
   "execution_count": null,
   "id": "49655699",
   "metadata": {},
   "outputs": [],
   "source": [
    "# summary statistics\n",
    "jobs.describe(include='all').head()"
   ]
  },
  {
   "cell_type": "code",
   "execution_count": null,
   "id": "5b3e95f4",
   "metadata": {},
   "outputs": [],
   "source": [
    "# change the 'K' in the salary column to thousand(000)\n",
    "jobs['Salary'] = jobs['Salary'].str.replace('£', '').str.replace('K', '000')\n",
    "jobs.head()"
   ]
  },
  {
   "cell_type": "code",
   "execution_count": null,
   "id": "097edb3f",
   "metadata": {},
   "outputs": [],
   "source": [
    "# replaces Employer est with an empty string\n",
    "jobs['Salary'] = jobs['Salary'].str.replace(r'\\(Employer est.\\)', ' ', regex=True)\n",
    "jobs['Salary'] = jobs['Salary'].str.replace(r'\\(Glassdoor est.\\)', ' ', regex=True)\n",
    "jobs.head()"
   ]
  },
  {
   "cell_type": "code",
   "execution_count": null,
   "id": "4e2ca8d1",
   "metadata": {},
   "outputs": [],
   "source": [
    "# convert hourly salary to yearly in the salary column\n",
    "def convert_to_yearly(Salary):\n",
    "  if 'Per Hour' in str(Salary):\n",
    "    hourly_rate = re.findall(r'\\d+\\.?\\d*', Salary)\n",
    "    if hourly_rate:\n",
    "      return float(hourly_rate[0])*2080\n",
    "  return Salary\n",
    "jobs['Salary'] = jobs['Salary'].apply(convert_to_yearly)"
   ]
  },
  {
   "cell_type": "code",
   "execution_count": null,
   "id": "3152ad86",
   "metadata": {},
   "outputs": [],
   "source": [
    "# split salary into minimum and maximum\n",
    "jobs['Salary'] = jobs['Salary'].astype(str) # make sure the datatype is a string\n",
    "jobs[['Salary_minimum', 'Salary_maximum']] = jobs['Salary'].str.split('-', expand=True)\n",
    "jobs.head()"
   ]
  },
  {
   "cell_type": "code",
   "execution_count": null,
   "id": "4f7db017",
   "metadata": {},
   "outputs": [],
   "source": [
    "jobs.info()"
   ]
  },
  {
   "cell_type": "code",
   "execution_count": null,
   "id": "5363ed5f",
   "metadata": {},
   "outputs": [],
   "source": [
    "# Define function to clean whitespace in salary columns\n",
    "def clean_salary_whitespace(df, column_name):\n",
    "    df[column_name] = df[column_name].str.replace(\" \", \"\").str.strip()\n",
    "    return df\n",
    "\n",
    "# Apply function to salary columns\n",
    "jobs = clean_salary_whitespace(jobs, \"Salary_minimum\")\n",
    "jobs = clean_salary_whitespace(jobs, \"Salary_maximum\")\n",
    "\n",
    "# View the updated DataFrame\n",
    "jobs.head()"
   ]
  },
  {
   "cell_type": "code",
   "execution_count": null,
   "id": "9eb112b0",
   "metadata": {},
   "outputs": [],
   "source": [
    "# let's convert the Salary_max and Salary_min column to numeric\n",
    "jobs['Salary_minimum'] = pd.to_numeric(jobs['Salary_minimum'], errors='coerce')\n",
    "jobs['Salary_maximum'] = pd.to_numeric(jobs['Salary_maximum'], errors='coerce')\n",
    "jobs.info()"
   ]
  },
  {
   "cell_type": "code",
   "execution_count": null,
   "id": "4ac230f2",
   "metadata": {},
   "outputs": [],
   "source": [
    "# convert the location datatype to string datatype in order to separate them into city and country\n",
    "jobs['Location'] = jobs['Location'].astype(str)"
   ]
  },
  {
   "cell_type": "code",
   "execution_count": null,
   "id": "ba40fc2a",
   "metadata": {},
   "outputs": [],
   "source": [
    "# split Location data into city and country (Make sure it's in string format)\n",
    "\"\"\"\n",
    "    The Location column is already in string format as converted earlier but just in case it isn't\n",
    "    we convert it into a string with this code \n",
    "    jobs[\"Location\"]=jobs[\"Location\"].astype(\"string\")\n",
    "\"\"\"\n",
    "\n",
    "\"\"\"\n",
    "    str.split(',') - This splits the column wherever there's a comma\n",
    "    n=1 - This ensures that only the first comma is used for splitting e.g, if there's a value like Ikeja, Lagos, Nigeria it only splits the 1st comma\n",
    "    expand=True - Converts the result into a separate dataframe\n",
    "\"\"\"\n",
    "jobs[['City', 'Country']] = jobs['Location'].str.split(',', n=1, expand=True)\n",
    "jobs.head()"
   ]
  },
  {
   "cell_type": "code",
   "execution_count": null,
   "id": "674cf3ac",
   "metadata": {},
   "outputs": [],
   "source": [
    "# Split the skills column\n",
    "skills_split = jobs['Skills'].str.get_dummies(sep=', ')\n",
    "skills_split.head()"
   ]
  },
  {
   "cell_type": "code",
   "execution_count": null,
   "id": "40056595",
   "metadata": {},
   "outputs": [],
   "source": [
    "# create a new column to indicate if it is remote or onsite\n",
    "jobs['Remote_Status'] = jobs['City'].apply(lambda x: 'Remote' if x == 'Remote' else 'On-site')"
   ]
  },
  {
   "cell_type": "code",
   "execution_count": null,
   "id": "49986efb",
   "metadata": {},
   "outputs": [],
   "source": [
    "# drop the location column\n",
    "jobs.drop(columns=['Location'], inplace=True)"
   ]
  },
  {
   "cell_type": "code",
   "execution_count": null,
   "id": "cd874426",
   "metadata": {},
   "outputs": [],
   "source": [
    "# Replace \"Remote\" (case-insensitive) in the City column with NaN\n",
    "jobs['City'] = jobs['City'].apply(lambda x: np.nan if isinstance(x, str) and x.strip().lower() == 'remote' else x)"
   ]
  },
  {
   "cell_type": "code",
   "execution_count": null,
   "id": "fe8ec826",
   "metadata": {},
   "outputs": [],
   "source": [
    "# Create a mask for rows where City contains 'United Kingdom' (case-insensitive)\n",
    "mask = jobs['City'].str.strip().str.lower() == 'united kingdom'\n",
    "\n",
    "# Move the country name from City to Country if the Country is currently missing\n",
    "jobs.loc[mask & jobs['Country'].isnull(), 'Country'] = jobs.loc[mask & jobs['Country'].isnull(), 'City']\n",
    "\n",
    "# Set the City value to NaN because it's not a valid city\n",
    "jobs.loc[mask, 'City'] = np.nan"
   ]
  },
  {
   "cell_type": "code",
   "execution_count": null,
   "id": "3fa473c4",
   "metadata": {},
   "outputs": [],
   "source": [
    "# concatenate with the original dataframe\n",
    "jobs_with_skills = pd.concat([jobs, skills_split], axis=1)\n",
    "jobs_with_skills.head(5)"
   ]
  },
  {
   "cell_type": "code",
   "execution_count": null,
   "id": "0a5dcc89",
   "metadata": {},
   "outputs": [],
   "source": [
    "skills_split['Python'].head()"
   ]
  },
  {
   "cell_type": "code",
   "execution_count": null,
   "id": "72208718",
   "metadata": {},
   "outputs": [],
   "source": [
    "# Extract the numeric digits from the \"Duration\" column and convert them to int\n",
    "jobs['Duration'] = pd.to_numeric(jobs['Duration'].str.extract(r'(\\d+)', expand=False), errors='coerce').astype(int)"
   ]
  },
  {
   "cell_type": "code",
   "execution_count": null,
   "id": "1d5e4f29",
   "metadata": {},
   "outputs": [],
   "source": [
    "# this shows us the number of jobs that didn't list (570) SQL as a skill to have and (180) listed as a skill to have\n",
    "skills_split['SQL'].value_counts()"
   ]
  },
  {
   "cell_type": "code",
   "execution_count": null,
   "id": "255c5d6e",
   "metadata": {},
   "outputs": [],
   "source": [
    "# save to csv file\n",
    "jobs.to_csv(\"UK_jobs_clean.csv\", index=False)"
   ]
  },
  {
   "cell_type": "code",
   "execution_count": null,
   "id": "8695d619",
   "metadata": {},
   "outputs": [],
   "source": []
  }
 ],
 "metadata": {
  "kernelspec": {
   "display_name": "Python 3",
   "language": "python",
   "name": "python3"
  },
  "language_info": {
   "codemirror_mode": {
    "name": "ipython",
    "version": 3
   },
   "file_extension": ".py",
   "mimetype": "text/x-python",
   "name": "python",
   "nbconvert_exporter": "python",
   "pygments_lexer": "ipython3",
   "version": "3.12.1"
  }
 },
 "nbformat": 4,
 "nbformat_minor": 5
}
